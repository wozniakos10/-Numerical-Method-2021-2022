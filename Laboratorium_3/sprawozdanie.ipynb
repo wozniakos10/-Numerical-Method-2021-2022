{
 "cells": [
  {
   "cell_type": "markdown",
   "metadata": {},
   "source": [
    "# <center>Laboratorium 3<br>Metody Numeryczne</center>"
   ]
  },
  {
   "cell_type": "markdown",
   "metadata": {},
   "source": [
    "Instrukcja:  \n",
    "Na zajęciach należy wykonać poniższe zadania, dokonać testu na platformie github, a następnie sporządzić sprawozdanie zawierające odpowiedzi z komentarzami."
   ]
  },
  {
   "cell_type": "markdown",
   "metadata": {},
   "source": [
    "Biblioteki niezbędne do wykonania zadania:\n",
    "\n",
    "(instalacja: \"pip install numpy scipy matplotlib memory_profiler\")"
   ]
  },
  {
   "cell_type": "code",
   "execution_count": 1,
   "metadata": {},
   "outputs": [],
   "source": [
    "import main\n",
    "\n",
    "import numpy as np\n",
    "import scipy\n",
    "import matplotlib\n",
    "import matplotlib.pyplot as plt\n",
    "\n",
    "%load_ext memory_profiler"
   ]
  },
  {
   "cell_type": "markdown",
   "metadata": {},
   "source": [
    "***Materiały przygotowujące:***\n",
    "- Standard IEEE 754 [PL](https://pl.wikipedia.org/wiki/IEEE_754) [EN](https://en.wikipedia.org/wiki/IEEE_754)\n",
    "- Liczba zmiennoprzecinkowa [PL](https://pl.wikipedia.org/wiki/Liczba_zmiennoprzecinkowa) [EN](https://en.wikipedia.org/wiki/Floating-point_arithmetic)\n",
    "- Arytmetyka zmiennoprzecinkowa [Python](https://docs.python.org/3.7/tutorial/floatingpoint.html)"
   ]
  },
  {
   "cell_type": "markdown",
   "metadata": {},
   "source": [
    "***Profilowanie kodu:***\n",
    "- [timeit](https://docs.python.org/2/library/timeit.html) - profilowanie czasu wykonywania kodu \n",
    "- [memit](https://pypi.org/project/memory-profiler/) - profilowanie pamięci zużywanej przez kod\n",
    "\n",
    "Zarówno timeit jak i memit wspierają magic command w Jupyter notebook, co obrazuje poniższy przykład:"
   ]
  },
  {
   "cell_type": "code",
   "execution_count": 2,
   "metadata": {},
   "outputs": [
    {
     "name": "stdout",
     "output_type": "stream",
     "text": [
      "SIZE:  100\n",
      "Timing: \n",
      "217 µs ± 53.8 µs per loop (mean ± std. dev. of 5 runs, 10 loops each)\n",
      "Memory usage: \n",
      "peak memory: 92.29 MiB, increment: 0.20 MiB\n",
      "\n",
      "\n",
      "SIZE:  1000\n",
      "Timing: \n",
      "18.5 ms ± 469 µs per loop (mean ± std. dev. of 5 runs, 10 loops each)\n",
      "Memory usage: \n",
      "peak memory: 115.11 MiB, increment: 22.82 MiB\n",
      "\n",
      "\n",
      "SIZE:  10000\n",
      "Timing: \n",
      "1.97 s ± 18.3 ms per loop (mean ± std. dev. of 5 runs, 10 loops each)\n",
      "Memory usage: \n",
      "peak memory: 2089.12 MiB, increment: 1996.86 MiB\n",
      "\n",
      "\n"
     ]
    }
   ],
   "source": [
    "def func(size):\n",
    "    a = np.random.random((size,size))\n",
    "    b = np.random.random((size,size))\n",
    "    c = a + b\n",
    "    return c\n",
    "\n",
    "for size in [100, 1000, 10000]:\n",
    "    print('SIZE: ', size)\n",
    "    print('Timing: ')\n",
    "    saved_timing = %timeit -r 5 -n 10 -o func(size)\n",
    "    saved_timing.average   # średni czas próby\n",
    "    saved_timing.stdev     # odchylenie standardowe\n",
    "    print('Memory usage: ')\n",
    "    %memit func(size)\n",
    "    print('\\n')"
   ]
  },
  {
   "cell_type": "markdown",
   "metadata": {},
   "source": [
    "***Zadanie 1.***  \n",
    "Zaimplementuj funkcje obliczające błąd względny i bezwzględny (*relative_error* i *absolut_error*).\n",
    "Funkcje przyjmują 2 argumenty: wartość dokładną oraz wartość przybliżoną, zwracając wartość błędu.\n",
    "Implementacja powinna obsługiwać zarówno wartości skalarne, listy oraz wektory i macierze typu np.array z zachowaniem zasad [broadcastingu](https://numpy.org/doc/stable/user/basics.broadcasting.html).\n",
    "\n",
    "**Wskazówka** Wykorzystuj funkcje *relative_error* i *absolut_error* w dalszej części laboratorium do analizy błędów."
   ]
  },
  {
   "cell_type": "code",
   "execution_count": 3,
   "metadata": {},
   "outputs": [
    {
     "name": "stdout",
     "output_type": "stream",
     "text": [
      "0.3000000000000007\n",
      "0.015000000000000036\n"
     ]
    }
   ],
   "source": [
    "print(main.absolut_error(20,19.7))\n",
    "print(main.relative_error(20,19.7))"
   ]
  },
  {
   "cell_type": "markdown",
   "metadata": {},
   "source": [
    "***Zadanie 2.***  \n",
    "Zaimplementuj funkcje *p_diff*, która przyjmuje jako parametry wartości całkowite $n$ i rzeczywiste $c$ oraz zwraca różnicę (co do wartości bezwzględnej)   dwóch wyrażeń $P_1$ oraz $P_2$:  \n",
    "  \n",
    "a) $P_1 = b - b + c $  \n",
    "b) $P_2 = b + c - b $  \n",
    "  \n",
    "gdzie $b = 2^n$\n",
    "\n",
    "Analizując różnicę w otrzymanych wynikach zastosuj warotści:  \n",
    "- $n \\in \\{1,2,3... 50\\}$\n",
    "- $c \\in \\{0.1, 0.125, 0.25, 0.33, 0.5, 0.6\\}$\n",
    " \n",
    "Następnie odpowiedź i zilustruj wykresami pytania:\n",
    "\n",
    "1. Jaki wynik powinniśmy otrzymać?\n",
    "2. Które z liczb mają skończoną a które nieskończoną reprezentację?    \n",
    "3. Dlaczego wyniki się od siebie różnią?    \n",
    "4. Jaki typ błędu tutaj występuje?\n",
    "5. Czy istnieje możliwość poprawy działania tych wyrażeń, jeżeli tak to w jaki sposób?  \n"
   ]
  },
  {
   "cell_type": "code",
   "execution_count": 4,
   "metadata": {},
   "outputs": [
    {
     "name": "stdout",
     "output_type": "stream",
     "text": [
      "3.608224830031759e-16\n",
      "0.0\n",
      "0.0\n",
      "7.629394532804312e-08\n",
      "0.0\n",
      "2.384185793236071e-08\n"
     ]
    }
   ],
   "source": [
    "print(main.p_diff(2,0.1))\n",
    "print(main.p_diff(10,0.125))\n",
    "print(main.p_diff(20,0.25))\n",
    "print(main.p_diff(30,0.33))\n",
    "print(main.p_diff(50,0.5))\n",
    "print(main.p_diff(28,0.6))\n"
   ]
  },
  {
   "cell_type": "markdown",
   "metadata": {},
   "source": [
    "Otrzymaliśmy przewidywane wyniki, czyli dla liczb którę mają skończoną reprezentację (liczby całkowite lub liczby dające się zapisać za pomocą sum potęgi 2) otrzymaliśmy 0 a dla liczb które mają nieskończoną reprezentacje(liczby zmiennoprzecinkowe,które nie dają się zapisać za pomocą sum potęgi 2) otrzymaliśmy małe błędy. Wyniki się różnią dlatego, że komputer nie może dokładnie zapisać liczb które mają nieskończoną reprezentacje, tylko bazuje na przybliżeniach. W tym zadaniu występuje błąd metody.Istnieje możliwość poprawy działania tych wyrażeń poprzez zwiększenie dokładności, jednak jest całkowicie nie będziemy w stanie wyeliminować błędów."
   ]
  },
  {
   "cell_type": "markdown",
   "metadata": {},
   "source": [
    "***Zadanie 3.***  \n",
    "Wartości funkcji $\\mathrm{e}^{x}$ można obliczyć w przybliżeniu z szeregu Taylora w następujący sposób:  \n",
    "  \n",
    "$\\mathrm{e}^{x} \\approx \\sum\\limits_{i=0}^{N}{\\cfrac{1}{i!}x^{i}}$ \n",
    "  \n",
    "na podstawie przedstawionych informacji zaimplementuj funkcje *exponential* która oblicza $\\mathrm{e}^{x}$ z zadaną dokładnością $N$. Porównaj działanie utworzonej funkcji z [numpy.exp](https://docs.scipy.org/doc/numpy-1.15.1/reference/generated/numpy.exp.html). Odpowiedz na pytania:  \n",
    "\n",
    "1. Jaki typ błędu obrazuje omawiany przykład?\n",
    "2. Dokonaj analizy błędów bezwzględnych i względnych w zależności od wartości $n$."
   ]
  },
  {
   "cell_type": "code",
   "execution_count": 5,
   "metadata": {},
   "outputs": [
    {
     "name": "stdout",
     "output_type": "stream",
     "text": [
      "16.375\n",
      "20.063392857142855\n",
      "20.08553692318766\n",
      "20.085536923187668\n"
     ]
    },
    {
     "data": {
      "text/plain": [
       "Text(0, 0.5, 'Wartość błędu względnego')"
      ]
     },
     "execution_count": 5,
     "metadata": {},
     "output_type": "execute_result"
    },
    {
     "data": {
      "image/png": "[encoded data removed]",
      "text/plain": [
       "<Figure size 432x288 with 1 Axes>"
      ]
     },
     "metadata": {
      "needs_background": "light"
     },
     "output_type": "display_data"
    },
    {
     "data": {
      "image/png": "[encoded data removed]",
      "text/plain": [
       "<Figure size 432x288 with 1 Axes>"
      ]
     },
     "metadata": {
      "needs_background": "light"
     },
     "output_type": "display_data"
    }
   ],
   "source": [
    "print(main.exponential(3,5))\n",
    "print(main.exponential(3,10))\n",
    "print(main.exponential(3,200))\n",
    "print(np.exp(3))\n",
    "n = [i for i in range(1,51)]\n",
    "y = []\n",
    "for i in range(0,len(n)):\n",
    "    y.append(main.absolut_error(np.exp(3),main.exponential(3,n[i])))\n",
    "plt.plot(n,y,'r')\n",
    "plt.title(\"Błąd bezwględny zaimplementowanej funkcji w porównaniu z funkcją np.exp()\")\n",
    "plt.xlabel(\"Wartość parametru n\")\n",
    "plt.ylabel(\"Wartość błędu bezwględnego\")\n",
    "plt.grid()\n",
    "y_ = []\n",
    "plt.figure()\n",
    "for i in range(0,len(n)):\n",
    "    y_.append(main.relative_error(np.exp(3),main.exponential(3,n[i])))\n",
    "plt.plot(n,y_,'c')\n",
    "plt.title(\"Błąd względny zaimplementowanej funkcji w porównaniu z funkcją np.exp()\")\n",
    "plt.grid()\n",
    "plt.xlabel(\"Wartość parametru n\")\n",
    "plt.ylabel(\"Wartość błędu względnego\")"
   ]
  },
  {
   "cell_type": "markdown",
   "metadata": {},
   "source": [
    "Zwiększająć nasze 'n' czyli dokładność przybliżenia otrzymujemy wyniki coraz bliższe wynikowi otrzymanemu dzięki funkcji numpy.exp. Po przekroczeniu wartości n = 10 błąd jest bliski zeru i dąży do niego. Musimy pamiętać, że jeseśmy ograniczeni, gdyż jeśli wybierzemy sobie duże n to spowoduje to wyrzucenie programu poperzez przepełnienie pamięci spowodowane bardzo dużą wielkością silni."
   ]
  },
  {
   "cell_type": "markdown",
   "metadata": {},
   "source": [
    "***Zadania 4.***  \n",
    "Zaimplementuj 2 funkcje $coskx1$ i $coskx2$, realizujące rekurencyjnie przybliżanie wartości $cos(kx)$ w następujący sposób:\n",
    "\n",
    "- Metoda 1:         \n",
    "$cos(m+1)x = 2cosx \\cdot cos(mx) - cos(m-1)x$\n",
    "- Metoda 2:     \n",
    "$cos(mx) = cosx \\cdot cos(m-1)x - sinx \\cdot sin(m-1)x$       \n",
    "$sin(mx) = sinx \\cdot cos(m-1)x + cosx \\cdot sin(m-1)x$\n",
    "\n",
    "Następnie przeanalizuj otrzymane rezultaty dla różnych $k$.\n",
    "\n",
    "**Wskazówka** Do wyliczenia wartości $sin(x)$, $cos(x)$ (dla $k=1$) można użyć funkcji biblioteki numpy. \n",
    "Pozostałe wartości dla $k>1$ należy wyznaczyć rekurencyjnie."
   ]
  },
  {
   "cell_type": "code",
   "execution_count": 6,
   "metadata": {},
   "outputs": [
    {
     "name": "stdout",
     "output_type": "stream",
     "text": [
      "Pierwsza metoda:\n",
      "-1.0\n",
      "-1.0\n",
      "\n",
      "-0.9999999999999999\n",
      "-1.0\n",
      "\n",
      "0.5000000000000002\n",
      "0.5000000000000001\n",
      "\n",
      "0.8660254037844387\n",
      "0.8660254037844387\n",
      "\n",
      "0.8660254037844377\n",
      "0.8660254037844387\n",
      "Wyniki są bardzo zblizone do siebie a po zaokrągleniu były by takie same, możemy zauważyć,że dla zwiekszonych k wyniki troszkę się róźnią\n",
      "Druga metoda:\n",
      "-1.0\n",
      "-0.9999999999999994\n",
      "-1.0\n",
      "\n",
      "1.0\n",
      "0.9999999999999998\n",
      "1.0\n",
      "\n",
      "0.5000000000000001\n",
      "0.5\n",
      "0.5000000000000001\n",
      "\n",
      "0.8660254037844386\n",
      "0.8660254037844384\n",
      "0.8660254037844386\n",
      "\n",
      "Druga metoda również daje wyniki bardzo zbliżone do siebie, które po zaokrągleniu były by takie same.\n",
      "Musimy pamiętać, że z racji tego że są to metody rekurencyjne, nie możemy ustawić zbyt dużego parametru k ponieważ spowoduje to problem z wydajnością programu\n"
     ]
    }
   ],
   "source": [
    "print(\"Pierwsza metoda:\")\n",
    "print(main.coskx1(1,np.pi))\n",
    "print(np.cos(np.pi),end =\"\\n\\n\")\n",
    "\n",
    "print(main.coskx1(5,np.pi/5))\n",
    "print(np.cos(np.pi),end =\"\\n\\n\")\n",
    "\n",
    "print(main.coskx1(2,np.pi/6))\n",
    "print(np.cos(np.pi/3),end =\"\\n\\n\")\n",
    "\n",
    "print(main.coskx1(1,np.pi/6))\n",
    "print(np.cos(np.pi/6),end =\"\\n\\n\")\n",
    "\n",
    "print(main.coskx1(5,np.pi/30))\n",
    "print(np.cos(np.pi/6))\n",
    "print(\"Wyniki są bardzo zblizone do siebie a po zaokrągleniu były by takie same, możemy zauważyć,że dla zwiekszonych k wyniki troszkę się róźnią\")\n",
    "print(\"Druga metoda:\")\n",
    "print(main.coskx2(1,np.pi)[0])\n",
    "print(main.coskx2(10,np.pi/10)[0])\n",
    "print(np.cos(np.pi),end =\"\\n\\n\")\n",
    "\n",
    "print(main.coskx2(1,np.pi/2)[1])\n",
    "print(main.coskx2(5,np.pi/10)[1])\n",
    "print(np.sin(np.pi/2),end =\"\\n\\n\")\n",
    "\n",
    "print(main.coskx2(1,np.pi/3)[0])\n",
    "print(main.coskx2(10,np.pi/30)[0])\n",
    "print(np.cos(np.pi/3),end =\"\\n\\n\")\n",
    "\n",
    "print(main.coskx2(1,np.pi/3)[1])\n",
    "print(main.coskx2(10,np.pi/30)[1])\n",
    "print(np.sin(np.pi/3),end =\"\\n\\n\")\n",
    "\n",
    "print(\"Druga metoda również daje wyniki bardzo zbliżone do siebie, które po zaokrągleniu były by takie same.\\nMusimy pamiętać, że z racji tego że są to metody rekurencyjne, nie możemy ustawić zbyt dużego parametru k ponieważ spowoduje to problem z wydajnością programu\")\n",
    "\n",
    "\n"
   ]
  },
  {
   "cell_type": "markdown",
   "metadata": {},
   "source": [
    "***Zadanie 5.***  \n",
    "Wiedząc, że\n",
    "$\\begin{aligned}\n",
    "\\sum_{n=1}^{\\infty} \\cfrac{1}{n^2} = \\cfrac{1}{6} \\pi^2\n",
    "\\end{aligned}$,\n",
    "napisz kod w Pythonie (funkcja *pi*) obliczający przybliżenie liczby pi (nie korzystaj ze stałych <i>numpy.pi</i>, <i>math.pi</i> itp.). \n",
    "\n",
    "1. Z jakimi rodzajami błędów numerycznych mamy tu do czynienia? \n",
    "2. Sporządź wykresy błędów bezwzględnych i względnych w stosunku do stałej numpy.pi w zależności od wartości $n$.  \n",
    "\n",
    "**Wskazówka** Do wizualizacji wyników użyj skali logarytmicznej."
   ]
  },
  {
   "cell_type": "markdown",
   "metadata": {},
   "source": [
    "Mamy tutaj doczynienia z błędem obcięcia, ponieważ liczymy tutaj sume dążącą do + nieskończoności, co jest samo w sobie niewykonalne dla komputera, więc musi on skrócić zakres"
   ]
  },
  {
   "cell_type": "code",
   "execution_count": 7,
   "metadata": {},
   "outputs": [
    {
     "name": "stdout",
     "output_type": "stream",
     "text": [
      "Im większy parametr n zadamy , tym dokładniejszą postać liczby pi dostaniemy. Przy n = 50 otrzymujemy już błąd względny równy 1%, a przy wzroście n ta wartość cały czas dąży do 0 \n"
     ]
    },
    {
     "data": {
      "image/png": "[encoded data removed]",
      "text/plain": [
       "<Figure size 432x288 with 1 Axes>"
      ]
     },
     "metadata": {
      "needs_background": "light"
     },
     "output_type": "display_data"
    },
    {
     "data": {
      "image/png": "[encoded data removed]",
      "text/plain": [
       "<Figure size 432x288 with 1 Axes>"
      ]
     },
     "metadata": {
      "needs_background": "light"
     },
     "output_type": "display_data"
    }
   ],
   "source": [
    "n = [i for i in range(1,300)]\n",
    "y = []\n",
    "for i in range(0,len(n)):\n",
    "    y.append(main.absolut_error(np.pi,main.pi(n[i])))\n",
    "plt.loglog(n,y,'r')\n",
    "plt.title(\"Wartość błędu bezwględnego zaimplementowanej funkcji względem funckji np.pi w zależności od liczby elementów sumy\")\n",
    "plt.grid()\n",
    "\n",
    "y_ = []\n",
    "for i in range(0,len(n)):\n",
    "    y_.append(main.relative_error(np.pi,main.pi(n[i])))\n",
    "plt.figure()\n",
    "plt.loglog(n,y_,'c')\n",
    "plt.title(\"Wartość błędu względnego zaimplementowanej funkcji względem funckji np.pi w zależności od liczby elementów sumy\")\n",
    "plt.grid()\n",
    "print(\"Im większy parametr n zadamy , tym dokładniejszą postać liczby pi dostaniemy. Przy n = 50 otrzymujemy już błąd względny równy 1%, a przy wzroście n ta wartość cały czas dąży do 0 \")\n"
   ]
  },
  {
   "cell_type": "markdown",
   "metadata": {},
   "source": [
    "***Zadanie 6.***  \n",
    "Używając funkcji timeit oraz memit zbadaj czas działania oraz zużycie pamięci funkcji z Zadania 4 w zalożności od różnych wartości $n$.     \n",
    "Sporządź wykresy:\n",
    "- czasu obliczenia danego przybliżenia liczby pi w zależności od $n$. \n",
    "W tym celu wykorzystaj funkcje [errorbar](https://matplotlib.org/3.1.1/api/_as_gen/matplotlib.pyplot.errorbar.html) oraz zwracane przez *timeit* wartości średnie oraz ich odchylenie standardowe. \n",
    "- błędu bezwzględnego przybliżenia liczby pi od czasu jego wykonania.\n",
    "\n",
    "\n",
    "\n",
    "**Wskazówka** Użyj opcji -o (output) dla *timeit* aby zapisać wynik do zmiennej. Opcje -r (runs) i -n (ilość pentli) decydują o ilości wykonanych prób.     \n",
    "Do wizualizacji wyników użyj skali logarytmicznej."
   ]
  },
  {
   "cell_type": "markdown",
   "metadata": {},
   "source": [
    "Mamy"
   ]
  },
  {
   "cell_type": "code",
   "execution_count": 8,
   "metadata": {},
   "outputs": [
    {
     "name": "stdout",
     "output_type": "stream",
     "text": [
      "SIZE:  1\n",
      "Timing: \n",
      "2.66 µs ± 822 ns per loop (mean ± std. dev. of 5 runs, 10 loops each)\n",
      "Memory usage: \n",
      "peak memory: 103.86 MiB, increment: 0.01 MiB\n",
      "\n",
      "\n",
      "SIZE:  2\n",
      "Timing: \n",
      "4.21 µs ± 1.21 µs per loop (mean ± std. dev. of 5 runs, 10 loops each)\n",
      "Memory usage: \n",
      "peak memory: 103.86 MiB, increment: 0.00 MiB\n",
      "\n",
      "\n",
      "SIZE:  3\n",
      "Timing: \n",
      "4.47 µs ± 921 ns per loop (mean ± std. dev. of 5 runs, 10 loops each)\n",
      "Memory usage: \n",
      "peak memory: 103.86 MiB, increment: 0.00 MiB\n",
      "\n",
      "\n",
      "SIZE:  4\n",
      "Timing: \n",
      "4.88 µs ± 1.12 µs per loop (mean ± std. dev. of 5 runs, 10 loops each)\n",
      "Memory usage: \n",
      "peak memory: 103.86 MiB, increment: 0.00 MiB\n",
      "\n",
      "\n",
      "SIZE:  5\n",
      "Timing: \n",
      "5.11 µs ± 930 ns per loop (mean ± std. dev. of 5 runs, 10 loops each)\n",
      "Memory usage: \n",
      "peak memory: 103.86 MiB, increment: 0.00 MiB\n",
      "\n",
      "\n",
      "SIZE:  6\n",
      "Timing: \n",
      "7.12 µs ± 1.15 µs per loop (mean ± std. dev. of 5 runs, 10 loops each)\n",
      "Memory usage: \n",
      "peak memory: 103.82 MiB, increment: 0.00 MiB\n",
      "\n",
      "\n",
      "SIZE:  7\n",
      "Timing: \n",
      "5.76 µs ± 949 ns per loop (mean ± std. dev. of 5 runs, 10 loops each)\n",
      "Memory usage: \n",
      "peak memory: 103.82 MiB, increment: 0.00 MiB\n",
      "\n",
      "\n",
      "SIZE:  8\n",
      "Timing: \n",
      "4.53 µs ± 1.18 µs per loop (mean ± std. dev. of 5 runs, 10 loops each)\n",
      "Memory usage: \n",
      "peak memory: 103.82 MiB, increment: 0.00 MiB\n",
      "\n",
      "\n",
      "SIZE:  9\n",
      "Timing: \n",
      "6.9 µs ± 949 ns per loop (mean ± std. dev. of 5 runs, 10 loops each)\n",
      "Memory usage: \n",
      "peak memory: 103.82 MiB, increment: 0.00 MiB\n",
      "\n",
      "\n",
      "SIZE:  10\n",
      "Timing: \n",
      "4.66 µs ± 920 ns per loop (mean ± std. dev. of 5 runs, 10 loops each)\n",
      "Memory usage: \n",
      "peak memory: 103.82 MiB, increment: 0.00 MiB\n",
      "\n",
      "\n",
      "SIZE:  11\n",
      "Timing: \n",
      "7.13 µs ± 965 ns per loop (mean ± std. dev. of 5 runs, 10 loops each)\n",
      "Memory usage: \n",
      "peak memory: 103.82 MiB, increment: 0.00 MiB\n",
      "\n",
      "\n",
      "SIZE:  12\n",
      "Timing: \n",
      "7.47 µs ± 891 ns per loop (mean ± std. dev. of 5 runs, 10 loops each)\n",
      "Memory usage: \n",
      "peak memory: 103.82 MiB, increment: 0.00 MiB\n",
      "\n",
      "\n",
      "SIZE:  13\n",
      "Timing: \n",
      "7.78 µs ± 924 ns per loop (mean ± std. dev. of 5 runs, 10 loops each)\n",
      "Memory usage: \n",
      "peak memory: 103.82 MiB, increment: 0.00 MiB\n",
      "\n",
      "\n",
      "SIZE:  14\n",
      "Timing: \n",
      "9.17 µs ± 1.88 µs per loop (mean ± std. dev. of 5 runs, 10 loops each)\n",
      "Memory usage: \n",
      "peak memory: 103.82 MiB, increment: 0.00 MiB\n",
      "\n",
      "\n",
      "SIZE:  15\n",
      "Timing: \n",
      "8.79 µs ± 1.5 µs per loop (mean ± std. dev. of 5 runs, 10 loops each)\n",
      "Memory usage: \n",
      "peak memory: 103.82 MiB, increment: 0.00 MiB\n",
      "\n",
      "\n"
     ]
    },
    {
     "data": {
      "image/png": "[encoded data removed]",
      "text/plain": [
       "<Figure size 432x288 with 1 Axes>"
      ]
     },
     "metadata": {
      "needs_background": "light"
     },
     "output_type": "display_data"
    },
    {
     "data": {
      "image/png": "[encoded data removed]",
      "text/plain": [
       "<Figure size 432x288 with 1 Axes>"
      ]
     },
     "metadata": {
      "needs_background": "light"
     },
     "output_type": "display_data"
    }
   ],
   "source": [
    "n = [i for i in range(1,16)]\n",
    "time = []\n",
    "std = []\n",
    "err = []\n",
    "\n",
    "for k in n:\n",
    "    print('SIZE: ', k)\n",
    "    print('Timing: ')\n",
    "    saved_timing = %timeit -r 5 -n 10 -o main.pi(k)\n",
    "    saved_timing.average   # średni czas próby\n",
    "    saved_timing.stdev     # odchylenie standardowe\n",
    "    print('Memory usage: ')\n",
    "    time.append(saved_timing.average)\n",
    "    std.append(saved_timing.stdev)\n",
    "    err.append(main.absolut_error(np.pi,main.pi(k)))\n",
    "    %memit main.pi(k)\n",
    "    print('\\n')\n",
    "plt.errorbar(n,time,yerr = std)\n",
    "plt.grid()\n",
    "plt.title(\"Czas obliczania przybliżenia liczby pi w zależności od wartości n, wraz z odchyleniem standardowym\")\n",
    "plt.show()\n",
    "plt.figure\n",
    "plt.plot(time,err,'r*')\n",
    "plt.grid()\n",
    "plt.title(\"Wartość błęu bezwględnego przybliżenia liczby pi w zależności od czasu jego wykonania\")\n",
    "plt.show()"
   ]
  },
  {
   "cell_type": "code",
   "execution_count": null,
   "metadata": {},
   "outputs": [],
   "source": []
  }
 ],
 "metadata": {
  "kernelspec": {
   "display_name": "Python 3 (ipykernel)",
   "language": "python",
   "name": "python3"
  },
  "language_info": {
   "codemirror_mode": {
    "name": "ipython",
    "version": 3
   },
   "file_extension": ".py",
   "mimetype": "text/x-python",
   "name": "python",
   "nbconvert_exporter": "python",
   "pygments_lexer": "ipython3",
   "version": "3.8.0"
  }
 },
 "nbformat": 4,
 "nbformat_minor": 2
}
