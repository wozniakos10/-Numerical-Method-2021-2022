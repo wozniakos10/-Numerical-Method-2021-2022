{
 "cells": [
  {
   "cell_type": "markdown",
   "metadata": {},
   "source": [
    "# <center>Rozwiązywanie układów równań</center>"
   ]
  },
  {
   "cell_type": "markdown",
   "metadata": {},
   "source": [
    "Instrukcja:\n",
    "Na zajęciach należy wykonać poniższe zadania, a następnie sporządzić sprawozdanie zawierające odpowiedzi (w postaci kodu) z komentarzami w środowisku Jupyter Notebook i umieścić je na platformie e-learningowej.   "
   ]
  },
  {
   "cell_type": "code",
   "execution_count": 1,
   "metadata": {},
   "outputs": [
    {
     "name": "stdout",
     "output_type": "stream",
     "text": [
      "[0.78929773 0.4940894  0.26290382]\n",
      "[[0.38811766 0.4917253  0.6229909  0.78929773 1.        ]\n",
      " [0.05959669 0.12061924 0.24412433 0.4940894  1.        ]\n",
      " [0.00477736 0.0181715  0.06911842 0.26290382 1.        ]]\n",
      "\n",
      "[[1.         0.78929773 0.6229909  0.4917253  0.38811766]\n",
      " [1.         0.4940894  0.24412433 0.12061924 0.05959669]\n",
      " [1.         0.26290382 0.06911842 0.0181715  0.00477736]]\n"
     ]
    }
   ],
   "source": [
    "import main\n",
    "import scipy as sp\n",
    "import numpy as np\n",
    "import matplotlib\n",
    "import matplotlib.pyplot as plt\n",
    "%load_ext memory_profiler"
   ]
  },
  {
   "cell_type": "markdown",
   "metadata": {},
   "source": [
    "**Cel zajęć:** Celem zajęć jest zapoznanie się z numerycznymi metodami rozwiązywania układów równań liniowych w postaci macierzowej, z rzadkimi macierzami prostokątnymi. Czyli dana jest macierz $\\mathbf{A}$ prostokątna o wymiarach ($m\\times n$) i [rzadka](https://pl.wikipedia.org/wiki/Macierz_rzadka) oraz wektor $\\mathbf{b}$ ($m\\times 1$), należy rozwiązać układ równań postaci:    \n",
    "$\n",
    "\\mathbf{Ax}=\\mathbf{b}\n",
    "$ \n",
    "  \n",
    "gdzie $\\mathbf{A}$ to macierz współczynników z lewej strony równania, wektor $\\mathbf{x}$ jest wektorem zmiennych a wektor $\\mathbf{b}$ wyników prawej strony równania.  \n",
    "\n",
    "Do oceny jakości rozwiązania będziemy wykorzystywać residuum (ang. *residual*)\n",
    "$\n",
    "\\mathbf{r}=\\mathbf{b}-\\mathbf{Ax}\n",
    "$ \n",
    "  "
   ]
  },
  {
   "cell_type": "markdown",
   "metadata": {},
   "source": [
    "***Zadanie 1***   \n",
    "Dane jest $m = 50$ oraz $n = 12$. Zdefiniuję funkcję *spare_matrixAbt*, która zwróci:\n",
    "- wektor $\\mathbf{t}$ typu $m\\times 1$ za pomocą komendy linspace tak aby wartości tego wektora należay do przedzaiłu $[0,1]$,\n",
    "- wektor $\\mathbf{b}$ typu $m \\times 1$, którego wartości dane są funkcją $\\cos(4t)$ oraz\n",
    "- macierz $\\mathbf{A}$ postaci: \n",
    "$$\n",
    "\\left[\\begin{matrix}\n",
    "1 & t_0 & t_{0}^{2} & \\cdots & t_{0}^{n-1} \\\\\n",
    "1 & t_1 & t_{1}^{2} & \\cdots & t_{1}^{n-1} \\\\\n",
    "1 & t_2 & t_{2}^{2} & \\cdots & t_{2}^{n-1} \\\\\n",
    "\\vdots & \\cdots & \\ddots & \\cdots & \\vdots \\\\\n",
    "1 & t_{m-1} & t_{m-1}^{2} & \\cdots & t_{m-1}^{n-1} \n",
    "\\end{matrix}\\right]\n",
    "$$  \n",
    "  \n",
    "**Wskazówka**: Do definicji macierzy $\\mathbf{A}$ należy użyć funkcji [vander](https://docs.scipy.org/doc/numpy-1.13.0/reference/generated/numpy.vander.html) oraz [fliplr](https://docs.scipy.org/doc/numpy-1.15.0/reference/generated/numpy.fliplr.html).  \n",
    " \n",
    "  \n",
    "Rozwiąż układ równań $\\mathbf{Ax}=\\mathbf{b}$ postaci:\n",
    "$$\n",
    "\\left[\\begin{matrix}\n",
    "1 & t_0 & t_{0}^{2} & \\cdots & t_{0}^{n-1} \\\\\n",
    "1 & t_1 & t_{1}^{2} & \\cdots & t_{1}^{n-1} \\\\\n",
    "1 & t_2 & t_{2}^{2} & \\cdots & t_{2}^{n-1} \\\\\n",
    "\\vdots & \\cdots & \\ddots & \\cdots & \\vdots \\\\\n",
    "1 & t_{m-1} & t_{m-1}^{2} & \\cdots & t_{m-1}^{n-1} \n",
    "\\end{matrix}\\right]\n",
    "\\left[\\begin{matrix}\n",
    "x_0\\\\\n",
    "x_1\\\\\n",
    "x_2\\\\\n",
    "\\vdots\\\\\n",
    "x_{n-1}\n",
    "\\end{matrix}\\right] =\n",
    "\\left[\\begin{matrix}\n",
    "b_0\\\\\n",
    "b_1\\\\\n",
    "b_2\\\\\n",
    "\\vdots\\\\\n",
    "b_{m-1}\n",
    "\\end{matrix}\\right]\n",
    "$$ \n",
    "za pomocą następujacych metod:\n",
    "\n",
    "1. Przekształcenia układu równań do postaci: $\\mathbf{A}^{\\mathrm{T}}\\mathbf{Ax}=\\mathbf{A}^{\\mathrm{T}}\\mathbf{b}$ (zdefinuj funkcję *square_from_rectan* która przekształci odpowiednio macierz A i wektor b)  i stosując funkcję solve, z poprzednich zajęć.\n",
    "2. Domyślnej metody Pythona rozwiązywania układów równań z macierzą prostokątną [lstsq](https://docs.scipy.org/doc/numpy-1.13.0/reference/generated/numpy.linalg.lstsq.html#numpy-linalg-lstsq).  \n",
    "3. Rozkładu QR rozwiązywania układów równań podanego na wykładzie. Do dokonania rozkładu QR w Pythonie używa się funkcji [qr](https://docs.scipy.org/doc/numpy-1.15.1/reference/generated/numpy.linalg.qr.html), natomiast do rozwiązywania układu równań z macierzą trójkątną służy funkcja [solve_triangular](https://docs.scipy.org/doc/scipy/reference/generated/scipy.linalg.solve_triangular.html)\n",
    "4. Metody rozkładu SVD rozwiązywania układów równań podanego na wykładzie.\n",
    "5. Porównaj czasy wykonania wszystkich metod oraz zużycie pamięci.\n",
    "6. Porównaj jakość otrzymanych wyników"
   ]
  },
  {
   "cell_type": "code",
   "execution_count": 2,
   "metadata": {},
   "outputs": [
    {
     "name": "stdout",
     "output_type": "stream",
     "text": [
      "-------------------- Badanie wydajności metod --------------------\n",
      "Metoda:  <function metoda_Square_From_Rectan at 0x00000234016C55E0>\n",
      "Timing: \n",
      "The slowest run took 5.67 times longer than the fastest. This could mean that an intermediate result is being cached.\n",
      "48.7 µs ± 38.7 µs per loop (mean ± std. dev. of 5 runs, 10 loops each)\n",
      "Memory usage: \n",
      "peak memory: 97.58 MiB, increment: 0.23 MiB\n",
      "Otrzymany wynik:\n",
      "[ 9.99999974e-01  7.52807186e-06 -8.00028184e+00  4.13166831e-03\n",
      "  1.06352339e+01  1.40965497e-01 -6.08701982e+00  7.32059132e-01\n",
      "  7.37946768e-01  7.10592083e-01 -6.68480496e-01  1.41202005e-01]\n",
      "\n",
      "\n",
      "Metoda:  <function metoda_QR at 0x000002341FD4C5E0>\n",
      "Timing: \n",
      "113 µs ± 9.31 µs per loop (mean ± std. dev. of 5 runs, 10 loops each)\n",
      "Memory usage: \n",
      "peak memory: 97.60 MiB, increment: 0.01 MiB\n",
      "Otrzymany wynik:\n",
      "[ 1.00000000e+00 -4.22743382e-07 -7.99998124e+00 -3.18763322e-04\n",
      "  1.06694308e+01 -1.38202901e-02 -5.64707562e+00 -7.53160326e-02\n",
      "  1.69360697e+00  6.03210277e-03 -3.74241701e-01  8.80405757e-02]\n",
      "\n",
      "\n",
      "Metoda:  <function metoda_SVD at 0x000002341FD4C700>\n",
      "Timing: \n",
      "142 µs ± 44.7 µs per loop (mean ± std. dev. of 5 runs, 10 loops each)\n",
      "Memory usage: \n",
      "peak memory: 97.61 MiB, increment: 0.01 MiB\n",
      "Otrzymany wynik:\n",
      "[ 1.00000000e+00 -4.22743376e-07 -7.99998124e+00 -3.18763322e-04\n",
      "  1.06694308e+01 -1.38202901e-02 -5.64707562e+00 -7.53160328e-02\n",
      "  1.69360697e+00  6.03210245e-03 -3.74241701e-01  8.80405756e-02]\n",
      "\n",
      "\n",
      "Metoda : np.linalg.lstsq\n",
      "TimingL\n",
      "99.6 µs ± 12.2 µs per loop (mean ± std. dev. of 5 runs, 10 loops each)\n",
      "Memory usage: \n",
      "peak memory: 97.62 MiB, increment: 0.00 MiB\n",
      "Otrzymany wynik:\n",
      "[ 1.00000000e+00 -4.22743385e-07 -7.99998124e+00 -3.18763318e-04\n",
      "  1.06694308e+01 -1.38202899e-02 -5.64707562e+00 -7.53160319e-02\n",
      "  1.69360697e+00  6.03210333e-03 -3.74241701e-01  8.80405757e-02]\n",
      "\n",
      "\n",
      "-------------------- Badanie jakości metod --------------------\n",
      "Metoda : Square_From_Rectan\n",
      "Wartość normy residuum: 1.266824924064854e-07\n",
      "\n",
      "\n",
      "Metoda : lstsq\n",
      "Wartość normy residuum: 7.999155462107696e-09\n",
      "\n",
      "\n",
      "Metoda : QR\n",
      "Wartość normy residuum: 7.999154559735259e-09\n",
      "\n",
      "\n",
      "Metoda : SVD\n",
      "Wartość normy residuum: 7.999154721068657e-09\n",
      "\n",
      "\n"
     ]
    }
   ],
   "source": [
    "A,b = main.spare_matrix_Abt(50,12)\n",
    "A_2,b_2 = main.square_from_rectan(A,b)\n",
    "x_1 = np.linalg.solve(A_2,b_2)  #1\n",
    "x_2 = np.linalg.lstsq(A,b,2)[0]  #2\n",
    "q,r = np.linalg.qr(A)\n",
    "x_3 = sp.linalg.solve_triangular(r,np.transpose(q)@b)  #3\n",
    "U,s,V=np.linalg.svd(A,full_matrices=False)\n",
    "S=np.diag(s)\n",
    "x_4=V.T@np.linalg.solve(S,U.T@b)  #4\n",
    "\n",
    "#print(x_1)\n",
    "#print(x_2)\n",
    "#print(x_3)\n",
    "#print(x_4)\n",
    "\n",
    "def metoda_Square_From_Rectan():\n",
    "    A_2,b_2 = main.square_from_rectan(A,b)\n",
    "    x_1 = np.linalg.solve(A_2,b_2)\n",
    "    return x_1\n",
    "\n",
    "def metoda_QR():\n",
    "    q,r = np.linalg.qr(A)\n",
    "    x_3 = sp.linalg.solve_triangular(r,np.transpose(q)@b)\n",
    "    return x_3\n",
    "\n",
    "def metoda_SVD():\n",
    "    U,s,V=np.linalg.svd(A,full_matrices=False)\n",
    "    S=np.diag(s)\n",
    "    x_4=V.T@np.linalg.solve(S,U.T@b)\n",
    "    return x_4\n",
    "print(20*'-','Badanie wydajności metod',20*'-')\n",
    "for i in [metoda_Square_From_Rectan, metoda_QR, metoda_SVD]:\n",
    "    print('Metoda: ',i)\n",
    "    print('Timing: ')\n",
    "    saved_timing = %timeit -r 5 -n 10 -o i()\n",
    "    saved_timing.average   # średni czas próby\n",
    "    saved_timing.stdev     # odchylenie standardowe\n",
    "    print('Memory usage: ')\n",
    "    %memit i()\n",
    "    print('Otrzymany wynik:')\n",
    "    print(i())\n",
    "    print('\\n')\n",
    "print('Metoda : np.linalg.lstsq')\n",
    "print('TimingL')\n",
    "saved_timing = %timeit -r 5 -n 10 -o np.linalg.lstsq(A,b,2)[0]\n",
    "saved_timing.average   # średni czas próby\n",
    "saved_timing.stdev     # odchylenie standardowe\n",
    "print('Memory usage: ')\n",
    "%memit np.linalg.lstsq(A,b,2)[0]\n",
    "print('Otrzymany wynik:')\n",
    "print(x_2)\n",
    "print('\\n')\n",
    "\n",
    "\n",
    "print(20*'-','Badanie jakości metod',20*'-')\n",
    "\n",
    "print(\"Metoda : Square_From_Rectan\")\n",
    "print(\"Wartość normy residuum: {0}\".format(main.residual_norm(A,x_1,b)))\n",
    "print('\\n')\n",
    "\n",
    "print(\"Metoda : lstsq\")\n",
    "print(\"Wartość normy residuum: {0}\".format(main.residual_norm(A,x_2,b)))\n",
    "print('\\n')\n",
    "\n",
    "print(\"Metoda : QR\")\n",
    "print(\"Wartość normy residuum: {0}\".format(main.residual_norm(A,x_3,b)))\n",
    "print('\\n')\n",
    "\n",
    "print(\"Metoda : SVD\")\n",
    "print(\"Wartość normy residuum: {0}\".format(main.residual_norm(A,x_4,b)))\n",
    "print('\\n')\n",
    "\n",
    "\n"
   ]
  },
  {
   "cell_type": "markdown",
   "metadata": {},
   "source": [
    "Najszybszą metodą okazała się metoda przekształcenia macierzy kwadratowej w macierz prostokątną a więc ta, którą implementowaliśmy na tych zajęciach. Następne 3 metody są wolniejsze a ich czasy są zbliżone do siebie. Jednak to,że nasza metoda jest najszybsza wcale nie oznacza, że jest najlepsza ponieważ jej norma jest ok. 100 razy większa od norm pozostałych metod, co oznacza że nie jest ona nie dokładna. Gdy porównamy wektory wyników widoczne na ekranie, gołym okiem widać że wartości dla wektora z naszej meotdy się różnią. Prawdopodobnie dzieje się tak dla tego, że w implementacji naszej funkcji operujemy na małych liczbach zbliżonych do siebie, co może powodować potencjalne błędy numeryczne. Gdybym musiał użyć jakiejś metody to wybrałbym np.linalg.lstsq ponieważ jest dokładna i najszybsza z metod, które zapewniają poprawne wyniki."
   ]
  },
  {
   "cell_type": "markdown",
   "metadata": {},
   "source": [
    "***Zadanie 2***  \n",
    "\n",
    "1. Przy użyciu funkcji [random.normal](https://numpy.org/doc/stable/reference/random/generated/numpy.random.normal.html) wygeneruj dwa wektory $\\mathbf{x}_1$ oraz $\\mathbf{x}_2$ o wymiarze (100,1) o wartości średniej równej 0 oraz odchyleniu standardowemu równego 1.\n",
    "\n",
    "2. Na podstawie uzyskanych wektorów wylicz wartości wektora $y$ danego wzorem:\n",
    "$$\n",
    "    y=2+x1-0.5x2+\\epsilon\n",
    "$$\n",
    "gdzie $\\epsilon$ jest wektorem wartości losowtch o wartości średniej równej 0 oraz odchyleniu standardowemu równego 1.\n",
    "\n",
    "3. Przy pomocy funkcji [concatenate](https://numpy.org/doc/stable/reference/generated/numpy.concatenate.html) połącz wektor samych jedynek o wymiarze (100,1) z:\n",
    "\n",
    "- $x_1$,\n",
    "- $x_2$,\n",
    "- $x_1$ i $x_2$\n",
    "\n",
    "z parametrem *axis = 1*.\n",
    "\n",
    "4. Na podstawie macierzy z punktu 3 oblicz współczynniki [regresji liniowych](https://pl.wikipedia.org/wiki/Regresja_liniowa) z wykorzystaniem rozkładu QR, opisanych zależnościami:\n",
    "\n",
    "    1. $y\\sim a+x_1$\n",
    "    2. $y\\sim a+x_2$\n",
    "    3. $y\\sim a+x_1+x_2$\n",
    "    4. $y\\sim a+x_2+x_2$\n",
    "\n",
    "5. Przedstaw otrzymane wyniki na odpowiednich subplotach."
   ]
  },
  {
   "cell_type": "code",
   "execution_count": 3,
   "metadata": {},
   "outputs": [],
   "source": [
    "x1 = np.random.normal(0,1,(100,1))\n",
    "x2 = np.random.normal(0,1,(100,1))\n",
    "ones = np.ones((100,1))\n",
    "#print(np.ones((100,1)))\n",
    "y = 2 + x1 - 0.5*x2 + np.random.normal(0,1,(100,1))\n",
    "#print(y)\n",
    "\n",
    "A_ones_x_1 = np.concatenate((ones,x1),1)\n",
    "A_ones_x2 = np.concatenate((ones,x2),1)\n",
    "A_ones_x1_x2 = np.concatenate((ones,x1+x2),1)\n",
    "A_ones_x2_x2 = np.concatenate((ones, x2 + x2), axis=1)\n",
    "\n",
    "\n",
    "\n",
    "q,r=np.linalg.qr(A_ones_x_1)\n",
    "beta1 = sp.linalg.solve_triangular(r,q.T@y)         #Obliczanie wspolczynnikow regresji liniowych z wykorzstaniem QR\n",
    "                                                        #dla poszczegolnych macierzy\n",
    "q,r=np.linalg.qr(A_ones_x2)\n",
    "beta2 = sp.linalg.solve_triangular(r,q.T@y)\n",
    "\n",
    "q,r=np.linalg.qr(A_ones_x1_x2)\n",
    "beta3 = sp.linalg.solve_triangular(r,np.transpose(q) @ y)\n",
    "\n",
    "q,r=np.linalg.qr(A_ones_x2_x2)\n",
    "beta4 = sp.linalg.solve_triangular(r,np.transpose(q) @ y)\n",
    "\n",
    "\n",
    "\n",
    "pred1=[min(x1), max(x1)]\n",
    "pred2=[min(x2), max(x2)]"
   ]
  },
  {
   "cell_type": "code",
   "execution_count": 4,
   "metadata": {},
   "outputs": [
    {
     "data": {
      "text/plain": [
       "Text(0.5, 0, 'x_2')"
      ]
     },
     "execution_count": 4,
     "metadata": {},
     "output_type": "execute_result"
    },
    {
     "data": {
      "image/png": "[encoded data removed]",
      "text/plain": [
       "<Figure size 432x288 with 1 Axes>"
      ]
     },
     "metadata": {
      "needs_background": "light"
     },
     "output_type": "display_data"
    },
    {
     "data": {
      "image/png": "[encoded data removed]",
      "text/plain": [
       "<Figure size 432x288 with 1 Axes>"
      ]
     },
     "metadata": {
      "needs_background": "light"
     },
     "output_type": "display_data"
    },
    {
     "data": {
      "image/png": "[encoded data removed]",
      "text/plain": [
       "<Figure size 432x288 with 1 Axes>"
      ]
     },
     "metadata": {
      "needs_background": "light"
     },
     "output_type": "display_data"
    },
    {
     "data": {
      "image/png": "[encoded data removed]",
      "text/plain": [
       "<Figure size 432x288 with 1 Axes>"
      ]
     },
     "metadata": {
      "needs_background": "light"
     },
     "output_type": "display_data"
    }
   ],
   "source": [
    "\n",
    "\n",
    "plt.figure()\n",
    "plt.plot(x1,y,marker='o',linestyle='none')\n",
    "plt.plot(pred1, beta1[0]+beta1[1]*pred1)\n",
    "plt.title('y ~ a + x1  ')\n",
    "plt.xlabel('x_1')\n",
    "\n",
    "plt.figure()\n",
    "plt.plot(x2,y,marker='o',linestyle='none')\n",
    "plt.plot(pred2, beta2[0]+beta2[1]*pred2)\n",
    "plt.title('y ~ a + x2')\n",
    "plt.xlabel('x_2')\n",
    "\n",
    "plt.figure()\n",
    "plt.plot(x1,y,marker='o',linestyle='none')\n",
    "plt.plot(x1+x2,A_ones_x1_x2 @ beta3)\n",
    "plt.title('y ~ a + x_1 + x_2')\n",
    "plt.xlabel('x_1')\n",
    "\n",
    "plt.figure()\n",
    "plt.plot(x2 + x2,y,'o')\n",
    "plt.plot(x2+x2, A_ones_x2_x2 @ beta4)\n",
    "plt.title('y ~ a + x_2 + x_2')\n",
    "plt.xlabel('x_2')\n",
    "\n"
   ]
  },
  {
   "cell_type": "markdown",
   "metadata": {},
   "source": [
    "Na tych laboratoriach rozszerzyliśmy poznane na wcześniejszych laboratoraich metody rozwiązywania układów z macierzą kwadratową na układy równań z macierzą prostokątną. Poznaliśmy dokładność oraz szybkośc wykonywania poszczególnych metod. Mieliśmy też okazję popracować z regresją liniową, która jest użytecznym narzędziem m.in w machine learningu."
   ]
  },
  {
   "cell_type": "markdown",
   "metadata": {},
   "source": [
    "Materiały uzupełniające:\n",
    "- [Scipy Lecture Notes](http://www.scipy-lectures.org/index.html)\n",
    "- [NumPy for Matlab users](https://docs.scipy.org/doc/numpy/user/numpy-for-matlab-users.html#numpy-for-matlab-users)\n",
    "- [Python Tutorial - W3Schools](https://www.w3schools.com/python/default.asp)\n",
    "- [NumPy](https://www.numpy.org)\n",
    "- [Matplotlib](https://matplotlib.org/)\n",
    "- [Anaconda](https://www.anaconda.com/)\n",
    "- [Learn Python for Data Science](https://www.datacamp.com/learn-python-with-anaconda?utm_source=Anaconda_download&utm_campaign=datacamp_training&utm_medium=banner)\n",
    "- [Learn Python](https://www.learnpython.org/)\n",
    "- [Wujek Google](https://google.pl) i [Ciocia Wikipedia](https://pl.wikipedia.org/wiki/Wikipedia:Strona_g%C5%82%C3%B3wna)"
   ]
  }
 ],
 "metadata": {
  "kernelspec": {
   "display_name": "Python 3 (ipykernel)",
   "language": "python",
   "name": "python3"
  },
  "language_info": {
   "codemirror_mode": {
    "name": "ipython",
    "version": 3
   },
   "file_extension": ".py",
   "mimetype": "text/x-python",
   "name": "python",
   "nbconvert_exporter": "python",
   "pygments_lexer": "ipython3",
   "version": "3.8.0"
  }
 },
 "nbformat": 4,
 "nbformat_minor": 2
}
