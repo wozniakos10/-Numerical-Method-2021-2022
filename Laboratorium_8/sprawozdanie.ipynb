{
 "cells": [
  {
   "cell_type": "markdown",
   "metadata": {},
   "source": [
    "# <center>Rozwiązywanie układów równań</center>\n",
    "# <center>Metody iteracyjne</center>"
   ]
  },
  {
   "cell_type": "markdown",
   "metadata": {},
   "source": [
    "Instrukcja:\n",
    "Na zajęciach należy wykonać poniższe zadania, a następnie sporządzić sprawozdanie zawierające odpowiedzi (w postaci kodu) z komentarzami w środowisku Jupyter Notebook i umieścić je na platformie e-learningowej.   "
   ]
  },
  {
   "cell_type": "code",
   "execution_count": 1,
   "metadata": {},
   "outputs": [],
   "source": [
    "import main\n",
    "import scipy as sp\n",
    "import numpy as np\n",
    "import scipy.sparse.linalg as sp_linalg\n",
    "import numpy.linalg as np_linalg\n",
    "import matplotlib\n",
    "import matplotlib.pyplot as plt\n",
    "\n"
   ]
  },
  {
   "cell_type": "markdown",
   "metadata": {},
   "source": [
    "**Cel zajęć:**  \n",
    "Celem zajęć jest zapoznanie się z iteracyjnymi metodami rozwiązywania układów równań liniowych w postaci macierzowej. Metody iteracyjne, w przeciwieństwie do analitycznych, nie zwracają dokładnego rozwiązania, a jedynie jego przybliżenie. Przy spełnionych kryteriach, przybliżenia obliczane w kolejnych iteracjach są zbieżne do dokładnego rozwiązania. Metody iteracyjne znajdują swoje zastosowanie szczególnie przy dużych układach równań postaci: \n",
    "   \n",
    "$\n",
    "\\mathbf{Ax}=\\mathbf{b}\n",
    "$ \n",
    "  \n",
    "gdzie $\\mathbf{A}$ to macierz współczynników z lewej strony równania, wektor $\\mathbf{x}$ jest wektorem zmiennych a wektor $\\mathbf{b}$ wyników prawej strony równania.  \n",
    "\n",
    "Do oceny jakości rozwiązania będziemy wykorzystywać residuum (ang. *residual*)\n",
    "$\n",
    "\\mathbf{r}=\\mathbf{b}-\\mathbf{Ax}\n",
    "$ \n",
    "  "
   ]
  },
  {
   "cell_type": "markdown",
   "metadata": {},
   "source": [
    "***Zadanie 1***   \n",
    "Zdefiniuję funkcję *diag_dominant_matrix_A_b*, przyjmującą paramter całkowity $m>0$ która zwróci:\n",
    "- macierz diagonalnie zdominowana $\\mathbf{A}$ o wymiarach $m \\times m$ (wyrazy na przekątnej sa wieksze co do modułu od sumy pozostałych w danej kolumnie i wierszu)\n",
    "- wektor $\\mathbf{b}$ o wymiarach $m \\times 1$ \n",
    " \n",
    "o losowych wartościach całkowitych\n",
    "\n",
    "Dodatkowo zdefiniuj funkcje *is_diag_dominant* sprawdzającą czy zadana macierz jest diagonalnie zdominowana"
   ]
  },
  {
   "cell_type": "markdown",
   "metadata": {},
   "source": [
    "***Zadanie 2***   \n",
    "Zdefiniuję funkcję *symmetric_matrix_A_b*, przyjmującą paramter całkowity $m>0$ która zwróci:\n",
    "- symetryczną macierz $\\mathbf{A}$ o wymiarach $m \\times m$ (wyrazy symetryczne względnej przekątnej są sobie równe)\n",
    "- wektor $\\mathbf{b}$ o wymiarach $m \\times 1$ \n",
    " \n",
    "o losowych wartościach całkowitych\n",
    "\n",
    "Dodatkowo zdefiniuj funkcje is_symmetric sprawdzającą czy zadana macierz jest symetryczna"
   ]
  },
  {
   "cell_type": "markdown",
   "metadata": {},
   "source": [
    "***Zadanie 3***   \n",
    "Zdefiniuję następujące układy równań:\n",
    "\n",
    "a) $\\mathbf{A_1}$, $\\mathbf{b_1}$: gdzie $\\mathbf{A_1}$ jest macierzą o wymiarach $m \\times m$, a $\\mathbf{b_1}$ wektorem $m \\times 1$, $m = 10$\n",
    "\n",
    "b) $\\mathbf{A_2}$, $\\mathbf{b_2}$: gdzie $\\mathbf{A_2}$ jest macierzą **diagonalnie zdominowaną** o wymiarach$m \\times m$, a $\\mathbf{b_2}$ wektorem $m \\times 1$, $m = 10$\n",
    " \n",
    "c) $\\mathbf{A_3}$, $\\mathbf{b_3}$: gdzie $\\mathbf{A_3}$ jest macierzą **symetryczną** o wymiarach $m \\times m$, a $\\mathbf{b_3}$ wektorem $m \\times 1$, $m = 10$   \n",
    " \n",
    "**Wskazówka**: Do generacji macierzy użyj metody *random_matrix_Ab* z lab6 oraz metod *diag_dominant_matrix_A_b* i *symmetric_matrix_A_b*"
   ]
  },
  {
   "cell_type": "code",
   "execution_count": 2,
   "metadata": {},
   "outputs": [],
   "source": [
    "A1,b1 = main.random_matrix_Ab(10);\n",
    "A2,b2 = main.diag_dominant_matrix_A_b(10)\n",
    "A3,b3 = main.symmetric_matrix_A_b(10)\n",
    "x_init = np.zeros(10)\n",
    "epsilon = 1e-12\n",
    "maxiter = [1, 2, 4, 6, 8, 10, 12, 14,16, 18,20]\n",
    "GMRES_result = []"
   ]
  },
  {
   "cell_type": "markdown",
   "metadata": {},
   "source": [
    "***Zadanie 4***   \n",
    "Zaimplementuj iteracyjną metodę *solve_jacobi*, rozwiązującą układ równań metodą Jacobiego zgodnie z dokumentacją w pliku *main.py*.\n",
    "Szczegóły metody zostały przedstawione na wykładzie."
   ]
  },
  {
   "cell_type": "markdown",
   "metadata": {},
   "source": [
    "***Zadanie 5***   \n",
    "Rozwiąż układ równań z Zadania 3 podpunkt a) przy pomocy:\n",
    "\n",
    "- funkcji *[solve](https://docs.scipy.org/doc/numpy-1.15.1/reference/generated/numpy.linalg.solve.html?highlight=solve#numpy.linalg.solve)* z biblioteki numpy\n",
    "\n",
    "- zaimplementowanej iteracyjnej metody *solve_jacobi*\n",
    "\n",
    "- iteracyjnej metody *[gradientów sprzężonych](https://docs.scipy.org/doc/scipy/reference/generated/scipy.sparse.linalg.cg.html)*\n",
    " z biblioteki scipy\n",
    "\n",
    "- iteracyjnej metody *[GMRES](https://docs.scipy.org/doc/scipy/reference/generated/scipy.sparse.linalg.gmres.html)*\n",
    " z biblioteki scipy\n",
    "\n",
    "Przed każdą metodą sprawdź czy warunki dotyczące macierzy dla danej metody są spełnione. Zbadaj dokładność i czas obliczeń metod w zależności od liczby iteracji. Wyniki przedstaw na wykresach."
   ]
  },
  {
   "cell_type": "code",
   "execution_count": 3,
   "metadata": {},
   "outputs": [
    {
     "name": "stdout",
     "output_type": "stream",
     "text": [
      "Jakość rozwiązania równania metodą solve: 6.468671174810107e-13\n",
      "Macierz nie spełnia warunków dotyczących metody solve_jacobi\n",
      "\n",
      "Macierz nie spełnia warunków dotyczących metody gradientów sprzężonych\n",
      "\n"
     ]
    }
   ],
   "source": [
    "x1 = np.linalg.solve(A1,b1)\n",
    "print(\"Jakość rozwiązania równania metodą solve: {0}\".format(main.residual_norm(A1,x1,b1)))\n",
    "if main.is_diag_dominant(A1) is False:\n",
    "    print('Macierz nie spełnia warunków dotyczących metody solve_jacobi\\n')\n",
    "\n",
    "if main.is_symmetric(A1) is False:\n",
    "    print('Macierz nie spełnia warunków dotyczących metody gradientów sprzężonych\\n')\n"
   ]
  },
  {
   "cell_type": "code",
   "execution_count": 4,
   "metadata": {},
   "outputs": [
    {
     "data": {
      "image/png": "[encoded data removed]",
      "text/plain": [
       "<Figure size 432x288 with 1 Axes>"
      ]
     },
     "metadata": {
      "needs_background": "light"
     },
     "output_type": "display_data"
    },
    {
     "name": "stdout",
     "output_type": "stream",
     "text": [
      "Czas wykonywania metody GMRES w zależności od liczby iteracji\n",
      "\n",
      "Liczba iteracji: 1\n",
      "Czas: \n",
      "5.66 ms ± 295 µs per loop (mean ± std. dev. of 5 runs, 10 loops each)\n",
      "Liczba iteracji: 2\n",
      "Czas: \n",
      "7.47 ms ± 182 µs per loop (mean ± std. dev. of 5 runs, 10 loops each)\n",
      "Liczba iteracji: 4\n",
      "Czas: \n",
      "11.8 ms ± 446 µs per loop (mean ± std. dev. of 5 runs, 10 loops each)\n",
      "Liczba iteracji: 6\n",
      "Czas: \n",
      "16 ms ± 191 µs per loop (mean ± std. dev. of 5 runs, 10 loops each)\n",
      "Liczba iteracji: 8\n",
      "Czas: \n",
      "16.7 ms ± 230 µs per loop (mean ± std. dev. of 5 runs, 10 loops each)\n",
      "Liczba iteracji: 10\n",
      "Czas: \n",
      "404 µs ± 11.6 µs per loop (mean ± std. dev. of 5 runs, 10 loops each)\n",
      "Liczba iteracji: 12\n",
      "Czas: \n",
      "413 µs ± 18.6 µs per loop (mean ± std. dev. of 5 runs, 10 loops each)\n",
      "Liczba iteracji: 14\n",
      "Czas: \n",
      "407 µs ± 13.6 µs per loop (mean ± std. dev. of 5 runs, 10 loops each)\n",
      "Liczba iteracji: 16\n",
      "Czas: \n",
      "399 µs ± 21.2 µs per loop (mean ± std. dev. of 5 runs, 10 loops each)\n",
      "Liczba iteracji: 18\n",
      "Czas: \n",
      "366 µs ± 43.7 µs per loop (mean ± std. dev. of 5 runs, 10 loops each)\n",
      "Liczba iteracji: 20\n",
      "Czas: \n",
      "393 µs ± 74.6 µs per loop (mean ± std. dev. of 5 runs, 10 loops each)\n"
     ]
    }
   ],
   "source": [
    "for i in range(len(maxiter)):\n",
    "    ans = sp_linalg.gmres(A1, b1, x_init, epsilon, maxiter[i])[0]\n",
    "    norm = main.residual_norm(A1, ans, b1)\n",
    "    GMRES_result.append(norm)\n",
    "    \n",
    "    plt.scatter(maxiter[i], GMRES_result[i])\n",
    "    plt.title('Jakość badanej metody GMRES w zależności od liczby iteracji')\n",
    "    plt.xlabel('Liczba iteracji')\n",
    "    plt.ylabel('Uzyskana dokładność')\n",
    "    plt.grid()\n",
    "plt.show()\n",
    "\n",
    "\n",
    "print(\"Czas wykonywania metody GMRES w zależności od liczby iteracji\\n\")\n",
    "for i in range(len(maxiter)):\n",
    "    print(\"Liczba iteracji: {0}\".format(maxiter[i]))\n",
    "    print('Czas: ')\n",
    "    saved_timing = %timeit -r 5 -n 10 -o sp_linalg.gmres(A1, b1, x_init, epsilon, maxiter[i])\n",
    "    saved_timing.average   # średni czas próby\n",
    "    saved_timing.stdev     # odchylenie standardowe\n",
    "  \n",
    "    "
   ]
  },
  {
   "cell_type": "markdown",
   "metadata": {},
   "source": [
    "***Zadanie 6***     \n",
    "Rozwiąż układ równań z Zadania 3 podpunkt b) przy pomocy:\n",
    "\n",
    "- funkcji *[solve](https://docs.scipy.org/doc/numpy-1.15.1/reference/generated/numpy.linalg.solve.html?highlight=solve#numpy.linalg.solve)* z biblioteki numpy\n",
    "\n",
    "- zaimplementowanej iteracyjnej metody *solve_jacobi*\n",
    "\n",
    "- iteracyjnej metody *[gradientów sprzężonych](https://docs.scipy.org/doc/scipy/reference/generated/scipy.sparse.linalg.cg.html)*\n",
    " z biblioteki scipy\n",
    "\n",
    "- iteracyjnej metody *[GMRES](https://docs.scipy.org/doc/scipy/reference/generated/scipy.sparse.linalg.gmres.html)*\n",
    " z biblioteki scipy\n",
    "\n",
    "Przed każdą metodą sprawdź czy warunki dotyczące macierzy dla danej metody są spełnione. Zbadaj dokładność i czas obliczeń metod w zależności od liczby iteracji. Wyniki przedstaw na wykresach."
   ]
  },
  {
   "cell_type": "code",
   "execution_count": 5,
   "metadata": {},
   "outputs": [
    {
     "name": "stdout",
     "output_type": "stream",
     "text": [
      "Jakość rozwiązania równania metodą solve: 4.429775955663296e-15\n",
      "\n",
      "Macierz spełnia warunki dotyczące metody solve_jacobi \n",
      "\n",
      "Macierz nie spełnia warunków dot. metody gradientów sprzężonych\n"
     ]
    }
   ],
   "source": [
    "x1  = np.linalg.solve(A2,b2)\n",
    "print(\"Jakość rozwiązania równania metodą solve: {0}\\n\".format(main.residual_norm(A2,x1,b2)))\n",
    "if main.is_diag_dominant(A2) is True:\n",
    "    print('Macierz spełnia warunki dotyczące metody solve_jacobi \\n')\n",
    "if main.is_symmetric(A2) is False:\n",
    "    print('Macierz nie spełnia warunków dot. metody gradientów sprzężonych')\n"
   ]
  },
  {
   "cell_type": "code",
   "execution_count": 6,
   "metadata": {},
   "outputs": [
    {
     "data": {
      "image/png": "[encoded data removed]",
      "text/plain": [
       "<Figure size 432x288 with 1 Axes>"
      ]
     },
     "metadata": {
      "needs_background": "light"
     },
     "output_type": "display_data"
    },
    {
     "name": "stdout",
     "output_type": "stream",
     "text": [
      "Czas wykonywania metody Jacobi w zależności od liczby iteracji\n",
      "Liczba iteracji: 1\n",
      "Czas: \n",
      "52.3 µs ± 6.96 µs per loop (mean ± std. dev. of 5 runs, 10 loops each)\n",
      "Liczba iteracji: 2\n",
      "Czas: \n",
      "The slowest run took 5.22 times longer than the fastest. This could mean that an intermediate result is being cached.\n",
      "119 µs ± 98.9 µs per loop (mean ± std. dev. of 5 runs, 10 loops each)\n",
      "Liczba iteracji: 4\n",
      "Czas: \n",
      "123 µs ± 21.7 µs per loop (mean ± std. dev. of 5 runs, 10 loops each)\n",
      "Liczba iteracji: 6\n",
      "Czas: \n",
      "131 µs ± 41.8 µs per loop (mean ± std. dev. of 5 runs, 10 loops each)\n",
      "Liczba iteracji: 8\n",
      "Czas: \n",
      "169 µs ± 37.4 µs per loop (mean ± std. dev. of 5 runs, 10 loops each)\n",
      "Liczba iteracji: 10\n",
      "Czas: \n",
      "209 µs ± 35.6 µs per loop (mean ± std. dev. of 5 runs, 10 loops each)\n",
      "Liczba iteracji: 12\n",
      "Czas: \n",
      "219 µs ± 52.5 µs per loop (mean ± std. dev. of 5 runs, 10 loops each)\n",
      "Liczba iteracji: 14\n",
      "Czas: \n",
      "249 µs ± 49.7 µs per loop (mean ± std. dev. of 5 runs, 10 loops each)\n",
      "Liczba iteracji: 16\n",
      "Czas: \n",
      "272 µs ± 36.5 µs per loop (mean ± std. dev. of 5 runs, 10 loops each)\n",
      "Liczba iteracji: 18\n",
      "Czas: \n",
      "301 µs ± 46.2 µs per loop (mean ± std. dev. of 5 runs, 10 loops each)\n",
      "Liczba iteracji: 20\n",
      "Czas: \n",
      "324 µs ± 36.2 µs per loop (mean ± std. dev. of 5 runs, 10 loops each)\n"
     ]
    }
   ],
   "source": [
    "jacobi_result = []\n",
    "\n",
    "for i in range(len(maxiter)):\n",
    "    ans = main.solve_jacobi(A2,b2,x_init,epsilon,maxiter[i])[0]\n",
    "    norm = main.residual_norm(A2, ans, b2)\n",
    "    jacobi_result.append(norm)\n",
    "    \n",
    "    plt.scatter(maxiter[i], jacobi_result[i])\n",
    "    plt.title('Jakość badanej metody Jacobi w zależności od liczby iteracji')\n",
    "    plt.xlabel('Liczba iteracji')\n",
    "    plt.ylabel('Uzyskana dokładność')\n",
    "    plt.grid()\n",
    "plt.show()\n",
    "\n",
    "\n",
    "print(\"Czas wykonywania metody Jacobi w zależności od liczby iteracji\")\n",
    "for i in range(len(maxiter)):\n",
    "    print(\"Liczba iteracji: {0}\".format(maxiter[i]))\n",
    "    print('Czas: ')\n",
    "    saved_timing = %timeit -r 5 -n 10 -o main.solve_jacobi(A2, b2, x_init, epsilon, maxiter[i])\n",
    "    saved_timing.average   # średni czas próby\n",
    "    saved_timing.stdev     # odchylenie standardowe"
   ]
  },
  {
   "cell_type": "code",
   "execution_count": 7,
   "metadata": {},
   "outputs": [
    {
     "data": {
      "image/png": "[encoded data removed]",
      "text/plain": [
       "<Figure size 432x288 with 1 Axes>"
      ]
     },
     "metadata": {
      "needs_background": "light"
     },
     "output_type": "display_data"
    },
    {
     "name": "stdout",
     "output_type": "stream",
     "text": [
      "Czas wykonywania metody GMRES w zależności od liczby iteracji\n",
      "\n",
      "Liczba iteracji: 1\n",
      "Czas: \n",
      "1.49 ms ± 89.3 µs per loop (mean ± std. dev. of 5 runs, 10 loops each)\n",
      "Liczba iteracji: 2\n",
      "Czas: \n",
      "986 µs ± 44.9 µs per loop (mean ± std. dev. of 5 runs, 10 loops each)\n",
      "Liczba iteracji: 4\n",
      "Czas: \n",
      "578 µs ± 53.9 µs per loop (mean ± std. dev. of 5 runs, 10 loops each)\n",
      "Liczba iteracji: 6\n",
      "Czas: \n",
      "565 µs ± 59 µs per loop (mean ± std. dev. of 5 runs, 10 loops each)\n",
      "Liczba iteracji: 8\n",
      "Czas: \n",
      "566 µs ± 55.8 µs per loop (mean ± std. dev. of 5 runs, 10 loops each)\n",
      "Liczba iteracji: 10\n",
      "Czas: \n",
      "402 µs ± 48.8 µs per loop (mean ± std. dev. of 5 runs, 10 loops each)\n",
      "Liczba iteracji: 12\n",
      "Czas: \n",
      "430 µs ± 87.4 µs per loop (mean ± std. dev. of 5 runs, 10 loops each)\n",
      "Liczba iteracji: 14\n",
      "Czas: \n",
      "511 µs ± 111 µs per loop (mean ± std. dev. of 5 runs, 10 loops each)\n",
      "Liczba iteracji: 16\n",
      "Czas: \n",
      "442 µs ± 143 µs per loop (mean ± std. dev. of 5 runs, 10 loops each)\n",
      "Liczba iteracji: 18\n",
      "Czas: \n",
      "420 µs ± 56.3 µs per loop (mean ± std. dev. of 5 runs, 10 loops each)\n",
      "Liczba iteracji: 20\n",
      "Czas: \n",
      "364 µs ± 53.8 µs per loop (mean ± std. dev. of 5 runs, 10 loops each)\n"
     ]
    }
   ],
   "source": [
    "for i in range(len(maxiter)):\n",
    "    ans = sp_linalg.gmres(A2, b2, x_init, epsilon, maxiter[i])[0]\n",
    "    norm = main.residual_norm(A2, ans, b2)\n",
    "    GMRES_result.append(norm)\n",
    "    \n",
    "    plt.scatter(maxiter[i], GMRES_result[i])\n",
    "    plt.title('Jakość badanej metody GMRES w zależności od liczby iteracji')\n",
    "    plt.xlabel('Liczba iteracji')\n",
    "    plt.ylabel('Uzyskana dokładność')\n",
    "    plt.grid()\n",
    "plt.show()\n",
    "\n",
    "\n",
    "print(\"Czas wykonywania metody GMRES w zależności od liczby iteracji\\n\")\n",
    "for i in range(len(maxiter)):\n",
    "    print(\"Liczba iteracji: {0}\".format(maxiter[i]))\n",
    "    print('Czas: ')\n",
    "    saved_timing = %timeit -r 5 -n 10 -o sp_linalg.gmres(A2, b2, x_init, epsilon, maxiter[i])\n",
    "    saved_timing.average   # średni czas próby\n",
    "    saved_timing.stdev     # odchylenie standardowe\n",
    "  \n",
    "    "
   ]
  },
  {
   "cell_type": "markdown",
   "metadata": {},
   "source": [
    "***Zadanie 7***   \n",
    "Rozwiąż układ równań z Zadania 3 podpunkt c) przy pomocy:\n",
    "\n",
    "- funkcji *[solve](https://docs.scipy.org/doc/numpy-1.15.1/reference/generated/numpy.linalg.solve.html?highlight=solve#numpy.linalg.solve)* z biblioteki numpy\n",
    "\n",
    "- zaimplementowanej iteracyjnej metody *solve_jacobi*\n",
    "\n",
    "- iteracyjnej metody *[gradientów sprzężonych](https://docs.scipy.org/doc/scipy/reference/generated/scipy.sparse.linalg.cg.html)*\n",
    " z biblioteki scipy\n",
    "\n",
    "- iteracyjnej metody *[GMRES](https://docs.scipy.org/doc/scipy/reference/generated/scipy.sparse.linalg.gmres.html)*\n",
    " z biblioteki scipy\n",
    "\n",
    "Przed każdą metodą sprawdź czy warunki dotyczące macierzy dla danej metody są spełnione. Zbadaj dokładność i czas obliczeń metod w zależności od liczby iteracji. Wyniki przedstaw na wykresach."
   ]
  },
  {
   "cell_type": "code",
   "execution_count": 8,
   "metadata": {},
   "outputs": [
    {
     "name": "stdout",
     "output_type": "stream",
     "text": [
      "Jakość rozwiązania równania metodą solve: 4.445330772370752e-14\n",
      "\n",
      "Macierz nie spełnia warunków dot. metody solve_jacobi\n",
      "\n",
      "Macierz spełnia warunki dot. metody gradientów sprzężonych \n",
      "\n"
     ]
    }
   ],
   "source": [
    "x1  = np.linalg.solve(A3,b3)\n",
    "print(\"Jakość rozwiązania równania metodą solve: {0}\\n\".format(main.residual_norm(A3,x1,b3)))\n",
    "if main.is_diag_dominant(A1) is False:\n",
    "    print('Macierz nie spełnia warunków dot. metody solve_jacobi\\n')\n",
    "if main.is_symmetric(A3) is True:\n",
    "    print('Macierz spełnia warunki dot. metody gradientów sprzężonych \\n')"
   ]
  },
  {
   "cell_type": "code",
   "execution_count": 9,
   "metadata": {},
   "outputs": [
    {
     "data": {
      "image/png": "[encoded data removed]",
      "text/plain": [
       "<Figure size 432x288 with 1 Axes>"
      ]
     },
     "metadata": {
      "needs_background": "light"
     },
     "output_type": "display_data"
    },
    {
     "name": "stdout",
     "output_type": "stream",
     "text": [
      "Czas wykonywania metody gradientów sprzężonych w zależności od liczby iteracji\n",
      "\n",
      "Liczba iteracji: 1\n",
      "Czas: \n",
      "154 µs ± 30.9 µs per loop (mean ± std. dev. of 5 runs, 10 loops each)\n",
      "Liczba iteracji: 2\n",
      "Czas: \n",
      "191 µs ± 36.6 µs per loop (mean ± std. dev. of 5 runs, 10 loops each)\n",
      "Liczba iteracji: 4\n",
      "Czas: \n",
      "259 µs ± 24.1 µs per loop (mean ± std. dev. of 5 runs, 10 loops each)\n",
      "Liczba iteracji: 6\n",
      "Czas: \n",
      "305 µs ± 7.31 µs per loop (mean ± std. dev. of 5 runs, 10 loops each)\n",
      "Liczba iteracji: 8\n",
      "Czas: \n",
      "372 µs ± 10.4 µs per loop (mean ± std. dev. of 5 runs, 10 loops each)\n",
      "Liczba iteracji: 10\n",
      "Czas: \n",
      "469 µs ± 41.7 µs per loop (mean ± std. dev. of 5 runs, 10 loops each)\n",
      "Liczba iteracji: 12\n",
      "Czas: \n",
      "The slowest run took 6.75 times longer than the fastest. This could mean that an intermediate result is being cached.\n",
      "1.08 ms ± 944 µs per loop (mean ± std. dev. of 5 runs, 10 loops each)\n",
      "Liczba iteracji: 14\n",
      "Czas: \n",
      "523 µs ± 145 µs per loop (mean ± std. dev. of 5 runs, 10 loops each)\n",
      "Liczba iteracji: 16\n",
      "Czas: \n",
      "468 µs ± 41.5 µs per loop (mean ± std. dev. of 5 runs, 10 loops each)\n",
      "Liczba iteracji: 18\n",
      "Czas: \n",
      "518 µs ± 56.7 µs per loop (mean ± std. dev. of 5 runs, 10 loops each)\n",
      "Liczba iteracji: 20\n",
      "Czas: \n",
      "492 µs ± 110 µs per loop (mean ± std. dev. of 5 runs, 10 loops each)\n"
     ]
    }
   ],
   "source": [
    "cg_result = []\n",
    "for i in range(len(maxiter)):\n",
    "    ans = sp_linalg.cg(A3, b3, x_init, epsilon, maxiter[i])[0]\n",
    "    norm = main.residual_norm(A3, ans, b3)\n",
    "    cg_result.append(norm)\n",
    "    \n",
    "    plt.scatter(maxiter[i], cg_result[i])\n",
    "    plt.title('Jakość badanej metody gradientów sprzężonych w zależności od liczby iteracji')\n",
    "    plt.xlabel('Liczba iteracji')\n",
    "    plt.ylabel('Uzyskana dokładność')\n",
    "    plt.grid()\n",
    "plt.show()\n",
    "\n",
    "\n",
    "print(\"Czas wykonywania metody gradientów sprzężonych w zależności od liczby iteracji\\n\")\n",
    "for i in range(len(maxiter)):\n",
    "    print(\"Liczba iteracji: {0}\".format(maxiter[i]))\n",
    "    print('Czas: ')\n",
    "    saved_timing = %timeit -r 5 -n 10 -o sp_linalg.cg(A3, b3, x_init, epsilon, maxiter[i])\n",
    "    saved_timing.average   # średni czas próby\n",
    "    saved_timing.stdev     # odchylenie standardowe"
   ]
  },
  {
   "cell_type": "code",
   "execution_count": 10,
   "metadata": {
    "scrolled": true
   },
   "outputs": [
    {
     "data": {
      "image/png": "[encoded data removed]",
      "text/plain": [
       "<Figure size 432x288 with 1 Axes>"
      ]
     },
     "metadata": {
      "needs_background": "light"
     },
     "output_type": "display_data"
    },
    {
     "name": "stdout",
     "output_type": "stream",
     "text": [
      "Czas wykonywania metody GMRES w zależności od liczby iteracji\n",
      "\n",
      "Liczba iteracji: 1\n",
      "Czas: \n",
      "5.73 ms ± 273 µs per loop (mean ± std. dev. of 5 runs, 10 loops each)\n",
      "Liczba iteracji: 2\n",
      "Czas: \n",
      "7.46 ms ± 233 µs per loop (mean ± std. dev. of 5 runs, 10 loops each)\n",
      "Liczba iteracji: 4\n",
      "Czas: \n",
      "11.6 ms ± 282 µs per loop (mean ± std. dev. of 5 runs, 10 loops each)\n",
      "Liczba iteracji: 6\n",
      "Czas: \n",
      "15.6 ms ± 226 µs per loop (mean ± std. dev. of 5 runs, 10 loops each)\n",
      "Liczba iteracji: 8\n",
      "Czas: \n",
      "15 ms ± 477 µs per loop (mean ± std. dev. of 5 runs, 10 loops each)\n",
      "Liczba iteracji: 10\n",
      "Czas: \n",
      "395 µs ± 106 µs per loop (mean ± std. dev. of 5 runs, 10 loops each)\n",
      "Liczba iteracji: 12\n",
      "Czas: \n",
      "393 µs ± 32 µs per loop (mean ± std. dev. of 5 runs, 10 loops each)\n",
      "Liczba iteracji: 14\n",
      "Czas: \n",
      "357 µs ± 43.4 µs per loop (mean ± std. dev. of 5 runs, 10 loops each)\n",
      "Liczba iteracji: 16\n",
      "Czas: \n",
      "392 µs ± 30.8 µs per loop (mean ± std. dev. of 5 runs, 10 loops each)\n",
      "Liczba iteracji: 18\n",
      "Czas: \n",
      "403 µs ± 16.9 µs per loop (mean ± std. dev. of 5 runs, 10 loops each)\n",
      "Liczba iteracji: 20\n",
      "Czas: \n",
      "402 µs ± 27.8 µs per loop (mean ± std. dev. of 5 runs, 10 loops each)\n"
     ]
    }
   ],
   "source": [
    "GMRES_result = []\n",
    "for i in range(len(maxiter)):\n",
    "    ans = sp_linalg.gmres(A3, b3, x_init, epsilon, maxiter[i])[0]\n",
    "    norm = main.residual_norm(A3, ans, b3)\n",
    "    GMRES_result.append(norm)\n",
    "    \n",
    "    plt.scatter(maxiter[i], GMRES_result[i])\n",
    "    plt.title('Jakość badanej metody GMRES w zależności od liczby iteracji')\n",
    "    plt.xlabel('Liczba iteracji')\n",
    "    plt.ylabel('Uzyskana dokładność')\n",
    "    plt.grid()\n",
    "plt.show()\n",
    "\n",
    "\n",
    "print(\"Czas wykonywania metody GMRES w zależności od liczby iteracji\\n\")\n",
    "for i in range(len(maxiter)):\n",
    "    print(\"Liczba iteracji: {0}\".format(maxiter[i]))\n",
    "    print('Czas: ')\n",
    "    saved_timing = %timeit -r 5 -n 10 -o sp_linalg.gmres(A3, b3, x_init, epsilon, maxiter[i])\n",
    "    saved_timing.average   # średni czas próby\n",
    "    saved_timing.stdev     # odchylenie standardowe"
   ]
  },
  {
   "cell_type": "markdown",
   "metadata": {},
   "source": [
    "Wnioski:\n",
    "\n",
    "Funkcja solve:\n",
    "\n",
    "Funkcję solve mogłem zastosować do każdego rodzaju macierzy. Wartośc normy dla wszsytkich macierzy wychodziła zbliżona. Nie zajmowałem się badaniem złożoności czasowej, ponieważ robiłem to na wcześniejszych zajęciach.\n",
    "\n",
    "Funkcja solve_jacobi:\n",
    "\n",
    "Funkcję solve_jacobi mogłem zastosować tylko do macierzy zdominowanej diagonalnie(czyli tej z podpunktu B). Wartości normy na wykresie układają się jak wartości funkcji eskponencjalnej z ujemnym wykładnikiem a więc dążą do zera wraz z rosnącą liczbą iteracji co jest optymistyczne.Czas wykonania rośnie wraz z ilością iteracji.\n",
    "\n",
    "\n",
    "\n",
    "\n",
    "Funkcja gradientów sprzężonych:\n",
    "\n",
    "Z tej funkcji skorzystałem tylko w przypadku macierzy symetrycznej(podpunkt C). Jeśli chodzi o jakość to do około 10 iteracji, wartość normy zachowuje się nieprzewidywalnie a po osiągnięciu 10 i więcej iteracji, norma stabilizuje się na poziomie zera .Złożoność czasowa rośnie liniowo wraz ze wzrostem iteracji.\n",
    "\n",
    "\n",
    "Funkcja GMRES\n",
    "\n",
    "Z tej funkcji mogłem skorzystać przy okazji każdej macierzy.Wartości normy szybko zbliżają i stabilizują się na poziomie zera co jest optymistyczne. W przypadku złożoności czasowej, natrafiamy tutaj na dziwny przypadek, ponieważ w podpunckie a i c, dla początkowych ilości iteracji czas wykonywania rośnie by następnie od pewnej ilości iteracji zacząć maleć.W podpunckie b,czas spada odrazu wraz z wzrostem ilości iteracji.Jest to jedyny taki przykład na tym laboratorium.\n",
    "\n",
    "\n",
    "\n"
   ]
  },
  {
   "cell_type": "markdown",
   "metadata": {},
   "source": [
    "Materiały uzupełniające:\n",
    "- [Scipy Lecture Notes](http://www.scipy-lectures.org/index.html)\n",
    "- [NumPy for Matlab users](https://docs.scipy.org/doc/numpy/user/numpy-for-matlab-users.html#numpy-for-matlab-users)\n",
    "- [Python Tutorial - W3Schools](https://www.w3schools.com/python/default.asp)\n",
    "- [NumPy](https://www.numpy.org)\n",
    "- [Matplotlib](https://matplotlib.org/)\n",
    "- [Anaconda](https://www.anaconda.com/)\n",
    "- [Learn Python for Data Science](https://www.datacamp.com/learn-python-with-anaconda?utm_source=Anaconda_download&utm_campaign=datacamp_training&utm_medium=banner)\n",
    "- [Learn Python](https://www.learnpython.org/)\n",
    "- [Wujek Google](https://google.pl) i [Ciocia Wikipedia](https://pl.wikipedia.org/wiki/Wikipedia:Strona_g%C5%82%C3%B3wna)"
   ]
  }
 ],
 "metadata": {
  "kernelspec": {
   "display_name": "Python 3 (ipykernel)",
   "language": "python",
   "name": "python3"
  },
  "language_info": {
   "codemirror_mode": {
    "name": "ipython",
    "version": 3
   },
   "file_extension": ".py",
   "mimetype": "text/x-python",
   "name": "python",
   "nbconvert_exporter": "python",
   "pygments_lexer": "ipython3",
   "version": "3.8.0"
  }
 },
 "nbformat": 4,
 "nbformat_minor": 2
}
